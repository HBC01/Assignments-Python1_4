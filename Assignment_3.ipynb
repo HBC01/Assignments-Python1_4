{
  "nbformat": 4,
  "nbformat_minor": 0,
  "metadata": {
    "colab": {
      "provenance": [],
      "authorship_tag": "ABX9TyNGZw+QY2sqfyQoQ5VnS15J",
      "include_colab_link": true
    },
    "kernelspec": {
      "name": "python3",
      "display_name": "Python 3"
    },
    "language_info": {
      "name": "python"
    }
  },
  "cells": [
    {
      "cell_type": "markdown",
      "metadata": {
        "id": "view-in-github",
        "colab_type": "text"
      },
      "source": [
        "<a href=\"https://colab.research.google.com/github/HBC01/Assignments-Python1_4/blob/main/Assignment_3.ipynb\" target=\"_parent\"><img src=\"https://colab.research.google.com/assets/colab-badge.svg\" alt=\"Open In Colab\"/></a>"
      ]
    },
    {
      "cell_type": "markdown",
      "source": [
        "# Python Assignment: Lists, Tuples, and Their Methods"
      ],
      "metadata": {
        "id": "OHMV7fsmSvzV"
      }
    },
    {
      "cell_type": "markdown",
      "source": [
        "# Basic List Operations"
      ],
      "metadata": {
        "id": "Ej6QWh1BS8MG"
      }
    },
    {
      "cell_type": "markdown",
      "source": [
        "1. Create a list of five numbers and append a new number to it. Print the updated list."
      ],
      "metadata": {
        "id": "gs4Yu30cTEI_"
      }
    },
    {
      "cell_type": "code",
      "execution_count": null,
      "metadata": {
        "colab": {
          "base_uri": "https://localhost:8080/"
        },
        "id": "bJd_0baqSmdy",
        "outputId": "6da4f5b0-ab49-48c4-9df7-551f5321d698"
      },
      "outputs": [
        {
          "output_type": "stream",
          "name": "stdout",
          "text": [
            "Updated List: [1, 2, 3, 4, 5, 6]\n"
          ]
        }
      ],
      "source": [
        "numbers = [1, 2, 3, 4, 5]\n",
        "numbers.append(6)\n",
        "print(\"Updated List:\", numbers)"
      ]
    },
    {
      "cell_type": "markdown",
      "source": [
        "2. Extend a list [1, 2, 3] with another list [4, 5, 6]. Print the result."
      ],
      "metadata": {
        "id": "UXbVxak3Tspr"
      }
    },
    {
      "cell_type": "code",
      "source": [
        "list1 = [1, 2, 3]\n",
        "list2 = [4, 5, 6]\n",
        "list1.extend(list2)\n",
        "print(\"Extended List:\", list1)"
      ],
      "metadata": {
        "colab": {
          "base_uri": "https://localhost:8080/"
        },
        "id": "mTFJFUuGT2s8",
        "outputId": "1a4e8e29-d3bc-4d4a-cb6f-ab530520170a"
      },
      "execution_count": null,
      "outputs": [
        {
          "output_type": "stream",
          "name": "stdout",
          "text": [
            "Extended List: [1, 2, 3, 4, 5, 6]\n"
          ]
        }
      ]
    },
    {
      "cell_type": "markdown",
      "source": [
        "3. Insert the string \"Python\" at index 2 in the list [\"Java\", \"C++\", \"JavaScript\", \"Ruby\"]."
      ],
      "metadata": {
        "id": "hoAw0GARUBTJ"
      }
    },
    {
      "cell_type": "code",
      "source": [
        "languages = [\"Java\", \"C++\", \"JavaScript\", \"Ruby\"]\n",
        "languages.insert(2, \"Python\")\n",
        "print(\"Updated List:\", languages)"
      ],
      "metadata": {
        "colab": {
          "base_uri": "https://localhost:8080/"
        },
        "id": "i1WPL8dWUO6L",
        "outputId": "c4a6dfba-404d-4e39-d5fc-0bdda9346254"
      },
      "execution_count": null,
      "outputs": [
        {
          "output_type": "stream",
          "name": "stdout",
          "text": [
            "Updated List: ['Java', 'C++', 'Python', 'JavaScript', 'Ruby']\n"
          ]
        }
      ]
    },
    {
      "cell_type": "markdown",
      "source": [
        "4. Remove the first occurrence of the number 10 from the list [10, 20, 30, 10, 40]."
      ],
      "metadata": {
        "id": "JmhKItEXUaH9"
      }
    },
    {
      "cell_type": "code",
      "source": [
        "numbers =[10,20,30,10,40]\n",
        "numbers.remove(10)\n",
        "print(\"Removed 10 from list:\",numbers)"
      ],
      "metadata": {
        "colab": {
          "base_uri": "https://localhost:8080/"
        },
        "id": "DschNACKkj5o",
        "outputId": "faed0389-f309-4b9a-cea4-709576cfc383"
      },
      "execution_count": null,
      "outputs": [
        {
          "output_type": "stream",
          "name": "stdout",
          "text": [
            "Removed 10 from list: [20, 30, 10, 40]\n"
          ]
        }
      ]
    },
    {
      "cell_type": "markdown",
      "source": [
        "5. Use the pop() method to remove the last element from [100, 200, 300, 400] and print the modified list."
      ],
      "metadata": {
        "id": "x9xh63GtUrCB"
      }
    },
    {
      "cell_type": "code",
      "source": [
        "numbers = [100, 200, 300, 400]\n",
        "numbers.pop()\n",
        "print(\"Updated List:\", numbers)"
      ],
      "metadata": {
        "colab": {
          "base_uri": "https://localhost:8080/"
        },
        "id": "ipj0ogi1Ukhu",
        "outputId": "31934515-a0e7-46b0-e6bb-a23d2586d132"
      },
      "execution_count": null,
      "outputs": [
        {
          "output_type": "stream",
          "name": "stdout",
          "text": [
            "Updated List: [100, 200, 300]\n"
          ]
        }
      ]
    },
    {
      "cell_type": "markdown",
      "source": [
        "#Intermediate List Operations"
      ],
      "metadata": {
        "id": "xLOAIARalHug"
      }
    },
    {
      "cell_type": "markdown",
      "source": [
        "6. Count how many times the number 5 appears in the list [5, 10, 5, 20, 5, 30]."
      ],
      "metadata": {
        "id": "ypnlv3DvlOSD"
      }
    },
    {
      "cell_type": "code",
      "source": [
        "numbers = [5, 10, 5, 20, 5, 30]\n",
        "count_five = numbers.count(5)\n",
        "print(\"Count of 5:\", count_five)"
      ],
      "metadata": {
        "colab": {
          "base_uri": "https://localhost:8080/"
        },
        "id": "gps3jHV1mVhb",
        "outputId": "543b3688-353d-471c-e594-0457731cf3e6"
      },
      "execution_count": null,
      "outputs": [
        {
          "output_type": "stream",
          "name": "stdout",
          "text": [
            "Count of 5: 3\n"
          ]
        }
      ]
    },
    {
      "cell_type": "markdown",
      "source": [
        "7. Sort the list [9, 1, 8, 3, 5] in ascending and descending order."
      ],
      "metadata": {
        "id": "o-hVP4Flmnly"
      }
    },
    {
      "cell_type": "code",
      "source": [
        "numbers = [9, 1, 8, 3, 5]\n",
        "numbers.sort()\n",
        "print(\"Ascending Order:\", numbers)"
      ],
      "metadata": {
        "colab": {
          "base_uri": "https://localhost:8080/"
        },
        "id": "a9bBB1-imxko",
        "outputId": "6f8d0a78-68b5-478b-9ae1-c3fd7476c1d1"
      },
      "execution_count": null,
      "outputs": [
        {
          "output_type": "stream",
          "name": "stdout",
          "text": [
            "Ascending Order: [1, 3, 5, 8, 9]\n"
          ]
        }
      ]
    },
    {
      "cell_type": "markdown",
      "source": [
        "    b. Descending order"
      ],
      "metadata": {
        "id": "MRJu3u0Km7rr"
      }
    },
    {
      "cell_type": "code",
      "source": [
        "numbers = [9, 1, 8, 3, 5]\n",
        "numbers.sort(reverse=True)\n",
        "print(numbers)"
      ],
      "metadata": {
        "colab": {
          "base_uri": "https://localhost:8080/"
        },
        "id": "mYeTQxh3nHAe",
        "outputId": "5efd96d0-0841-48bb-f9ec-4732a484ef06"
      },
      "execution_count": null,
      "outputs": [
        {
          "output_type": "stream",
          "name": "stdout",
          "text": [
            "[9, 8, 5, 3, 1]\n"
          ]
        }
      ]
    },
    {
      "cell_type": "markdown",
      "source": [
        "8. Reverse the list [\"apple\", \"banana\", \"cherry\"] using the reverse() method."
      ],
      "metadata": {
        "id": "C5ZuIHwJn0FV"
      }
    },
    {
      "cell_type": "code",
      "source": [
        "fruits = [\"apple\", \"banana\", \"cherry\"]\n",
        "fruits.reverse()\n",
        "print(\"Reversed List:\", fruits)"
      ],
      "metadata": {
        "colab": {
          "base_uri": "https://localhost:8080/"
        },
        "id": "osHpKWLMoDS1",
        "outputId": "e8ac7ffb-767a-4a66-8164-3f9850e96aee"
      },
      "execution_count": null,
      "outputs": [
        {
          "output_type": "stream",
          "name": "stdout",
          "text": [
            "Reversed List: ['cherry', 'banana', 'apple']\n"
          ]
        }
      ]
    },
    {
      "cell_type": "markdown",
      "source": [
        "9. Create a copy of the list [1, 2, 3, 4, 5], modify the copied list, and print both lists."
      ],
      "metadata": {
        "id": "VYRxmEJ6pVb9"
      }
    },
    {
      "cell_type": "code",
      "source": [
        "original_list = [1, 2, 3, 4, 5]\n",
        "copied_list = original_list.copy()\n",
        "\n",
        "copied_list.append(6)\n",
        "print(\"Original List:\", original_list)\n",
        "print(\"Copied & Modified List:\", copied_list)"
      ],
      "metadata": {
        "colab": {
          "base_uri": "https://localhost:8080/"
        },
        "id": "_mawSAzOpW19",
        "outputId": "cc0bfc04-3e99-48ee-f32e-01a8d0929304"
      },
      "execution_count": null,
      "outputs": [
        {
          "output_type": "stream",
          "name": "stdout",
          "text": [
            "Original List: [1, 2, 3, 4, 5]\n",
            "Copied & Modified List: [1, 2, 3, 4, 5, 6]\n"
          ]
        }
      ]
    },
    {
      "cell_type": "markdown",
      "source": [
        "10. Clear all elements from a list [\"hello\", \"world\", \"python\"] using the clear() method."
      ],
      "metadata": {
        "id": "0cyPyk5NpqKi"
      }
    },
    {
      "cell_type": "code",
      "source": [
        "words = [\"hello\", \"world\", \"python\"]\n",
        "words.clear()\n",
        "print(\"Cleared List:\", words)"
      ],
      "metadata": {
        "colab": {
          "base_uri": "https://localhost:8080/"
        },
        "id": "ph-z16hxqfWM",
        "outputId": "78d6d1bc-5060-4b7e-ade4-02e727ddfbe1"
      },
      "execution_count": null,
      "outputs": [
        {
          "output_type": "stream",
          "name": "stdout",
          "text": [
            "Cleared List: []\n"
          ]
        }
      ]
    },
    {
      "cell_type": "markdown",
      "source": [
        "#Tuple-Based Questions"
      ],
      "metadata": {
        "id": "D0wkaokeqr1T"
      }
    },
    {
      "cell_type": "markdown",
      "source": [
        "##11. Create a tuple with 5 different fruits and print the third fruit."
      ],
      "metadata": {
        "id": "eYCckgwrq5KA"
      }
    },
    {
      "cell_type": "code",
      "source": [
        "fruits = (\"apple\", \"banana\", \"cherry\", \"mango\", \"grape\")\n",
        "print(\"Third Fruit:\", fruits[2])"
      ],
      "metadata": {
        "colab": {
          "base_uri": "https://localhost:8080/"
        },
        "id": "tAxC_vXBq_C_",
        "outputId": "e1e37239-f3cb-4e00-8f06-e0df87284768"
      },
      "execution_count": null,
      "outputs": [
        {
          "output_type": "stream",
          "name": "stdout",
          "text": [
            "Third Fruit: cherry\n"
          ]
        }
      ]
    },
    {
      "cell_type": "markdown",
      "source": [
        "##12. Convert the tuple (10, 20, 30, 40, 50) into a list, remove 30, and convert it back into a tuple."
      ],
      "metadata": {
        "id": "evZDylfFrH3I"
      }
    },
    {
      "cell_type": "code",
      "source": [
        "\n",
        "numbers = (10, 20, 30, 40, 50)\n",
        "numbers_list = list(numbers)\n",
        "print(\"Numbers list: \",numbers_list)\n",
        "numbers_list.remove(30)\n",
        "numbers = tuple(numbers_list)\n",
        "print(\"Updated Tuple:\", numbers)"
      ],
      "metadata": {
        "colab": {
          "base_uri": "https://localhost:8080/"
        },
        "id": "7cg6HpwNsjSP",
        "outputId": "d77c66c7-6671-466a-aa09-b355a051dc51"
      },
      "execution_count": null,
      "outputs": [
        {
          "output_type": "stream",
          "name": "stdout",
          "text": [
            "Numbers list:  [10, 20, 30, 40, 50]\n",
            "Updated Tuple: (10, 20, 40, 50)\n"
          ]
        }
      ]
    },
    {
      "cell_type": "markdown",
      "source": [
        "##13. Try to append an element to the tuple (\"A\", \"B\", \"C\"). What happens? How can you modify a tuple indirectly?"
      ],
      "metadata": {
        "id": "dyCa88mltPf7"
      }
    },
    {
      "cell_type": "code",
      "source": [
        "\n",
        "# Tuples are immutable,\n",
        "letters = (\"A\", \"B\", \"C\")\n",
        "# letters.append(\"D\")  # This will raise an error\n",
        "\n",
        "# Indirect modification:\n",
        "letters = list(letters)  # Convert to list\n",
        "letters.append(\"D\")      # Modify the list\n",
        "letters = tuple(letters) # Convert back to tuple\n",
        "print(\"Modified Tuple:\", letters)"
      ],
      "metadata": {
        "colab": {
          "base_uri": "https://localhost:8080/"
        },
        "id": "M7eYYunJtagP",
        "outputId": "a6405208-a32a-44d0-f2db-e4ac9ff41d82"
      },
      "execution_count": null,
      "outputs": [
        {
          "output_type": "stream",
          "name": "stdout",
          "text": [
            "Modified Tuple: ('A', 'B', 'C', 'D')\n"
          ]
        }
      ]
    },
    {
      "cell_type": "markdown",
      "source": [
        "##14. Unpack the tuple (100, 200, 300) into three separate variables and print them."
      ],
      "metadata": {
        "id": "m10_60HJuj5a"
      }
    },
    {
      "cell_type": "code",
      "source": [
        "\n",
        "a, b, c = (100, 200, 300)\n",
        "print(a, b, c)"
      ],
      "metadata": {
        "colab": {
          "base_uri": "https://localhost:8080/"
        },
        "id": "aPu541UBuwCB",
        "outputId": "9e0fd8e0-2bed-461f-e42c-661c8e54cf8c"
      },
      "execution_count": null,
      "outputs": [
        {
          "output_type": "stream",
          "name": "stdout",
          "text": [
            "100 200 300\n"
          ]
        }
      ]
    },
    {
      "cell_type": "markdown",
      "source": [
        "##15. Count the occurrences of 7 in the tuple (7, 1, 7, 3, 7, 5)."
      ],
      "metadata": {
        "id": "hg-MGbjGu5P0"
      }
    },
    {
      "cell_type": "code",
      "source": [
        "numbers = (7, 1, 7, 3, 7, 5)\n",
        "print(f\"Total Count of 7 is {numbers.count(7)} \")"
      ],
      "metadata": {
        "colab": {
          "base_uri": "https://localhost:8080/"
        },
        "id": "jFkLn2fRvCxp",
        "outputId": "225052ae-89fe-45a3-889d-17e928232e6f"
      },
      "execution_count": null,
      "outputs": [
        {
          "output_type": "stream",
          "name": "stdout",
          "text": [
            "Total Count of 7 is 3 \n"
          ]
        }
      ]
    },
    {
      "cell_type": "markdown",
      "source": [
        "#Advanced Problems"
      ],
      "metadata": {
        "id": "f8nV4T9m1QaS"
      }
    },
    {
      "cell_type": "markdown",
      "source": [
        "##16. Function to remove all even numbers from a list."
      ],
      "metadata": {
        "id": "9AI6ff7B1aqM"
      }
    },
    {
      "cell_type": "code",
      "source": [
        "def remove_even(lst):\n",
        "    return [num for num in lst if num % 2 != 0]\n",
        "\n",
        "print(remove_even([1, 2, 3, 4, 5, 6]))\n",
        "\n",
        "def remove_odd(a):\n",
        "  return[num for num in a if num %2==0]\n",
        "print(remove_odd([1,2,3,4]))"
      ],
      "metadata": {
        "colab": {
          "base_uri": "https://localhost:8080/"
        },
        "id": "zsBn46ab1hyK",
        "outputId": "fdcd3c29-fd09-42bb-d0da-01d02edb0c05"
      },
      "execution_count": null,
      "outputs": [
        {
          "output_type": "stream",
          "name": "stdout",
          "text": [
            "[1, 3, 5]\n",
            "[2, 4]\n"
          ]
        }
      ]
    },
    {
      "cell_type": "markdown",
      "source": [
        "##17. Function to sort a list in descending order without sort()."
      ],
      "metadata": {
        "id": "GHAP8wglDNKa"
      }
    },
    {
      "cell_type": "code",
      "source": [
        "def sort_desc(list):\n",
        "    return sorted(list, reverse=True)\n",
        "\n",
        "print(sort_desc([4, 2, 9, 1]))\n",
        "a=[5,3,1,8]\n",
        "a.sort(reverse=True)\n",
        "print(a)"
      ],
      "metadata": {
        "colab": {
          "base_uri": "https://localhost:8080/"
        },
        "id": "NJ1DXTcGD_UR",
        "outputId": "49637d0e-516f-4849-de4b-b32fbc3cc5f6"
      },
      "execution_count": null,
      "outputs": [
        {
          "output_type": "stream",
          "name": "stdout",
          "text": [
            "[9, 4, 2, 1]\n",
            "[8, 5, 3, 1]\n"
          ]
        }
      ]
    },
    {
      "cell_type": "markdown",
      "source": [
        "##18. Remove duplicate elements from a list."
      ],
      "metadata": {
        "id": "v0Tm5AOrWISo"
      }
    },
    {
      "cell_type": "code",
      "source": [
        "numbers = [1, 2, 3, 2, 4, 5, 3]\n",
        "unique_numbers = list(set(numbers))\n",
        "print(unique_numbers)"
      ],
      "metadata": {
        "colab": {
          "base_uri": "https://localhost:8080/"
        },
        "id": "mfc7UcF4WT2L",
        "outputId": "ac1c3924-86dd-42f2-b84b-453028b0a7d8"
      },
      "execution_count": null,
      "outputs": [
        {
          "output_type": "stream",
          "name": "stdout",
          "text": [
            "[1, 2, 3, 4, 5]\n"
          ]
        }
      ]
    },
    {
      "cell_type": "markdown",
      "source": [
        "##19. Convert tuple to list, remove duplicates, and convert back."
      ],
      "metadata": {
        "id": "3YC3UsXXW1sc"
      }
    },
    {
      "cell_type": "code",
      "source": [
        "names = (\"Ahmed\",\"Hazoor\", \"Ahmed\", \"Khan\", \"Dawood\", \"Ahmed\")\n",
        "unique_names = list(names)\n",
        "print(unique_names,type(unique_names))\n",
        "unique_names =set(unique_names)\n",
        "print(type(unique_names))\n",
        "in_tuple=tuple(unique_names)\n",
        "print(in_tuple)\n",
        "# other way\n",
        "names = (\"Alice\", \"Bob\", \"Charlie\", \"Alice\", \"David\")\n",
        "unique_names = tuple(set(names))\n",
        "print(unique_names)"
      ],
      "metadata": {
        "colab": {
          "base_uri": "https://localhost:8080/"
        },
        "id": "CRhd_T10W_sf",
        "outputId": "ffff0b5f-58ac-4cb2-cc8a-382bdbc0d341"
      },
      "execution_count": null,
      "outputs": [
        {
          "output_type": "stream",
          "name": "stdout",
          "text": [
            "['Ahmed', 'Hazoor', 'Ahmed', 'Khan', 'Dawood', 'Ahmed'] <class 'list'>\n",
            "<class 'set'>\n",
            "('Hazoor', 'Dawood', 'Khan', 'Ahmed')\n",
            "('Alice', 'David', 'Charlie', 'Bob')\n"
          ]
        }
      ]
    }
  ]
}