{
  "nbformat": 4,
  "nbformat_minor": 0,
  "metadata": {
    "colab": {
      "provenance": [],
      "authorship_tag": "ABX9TyOlRiQOyAnHcD5k/4EmHUO9",
      "include_colab_link": true
    },
    "kernelspec": {
      "name": "python3",
      "display_name": "Python 3"
    },
    "language_info": {
      "name": "python"
    }
  },
  "cells": [
    {
      "cell_type": "markdown",
      "metadata": {
        "id": "view-in-github",
        "colab_type": "text"
      },
      "source": [
        "<a href=\"https://colab.research.google.com/github/HBC01/Assignments-Python1_4/blob/main/Assignment_4.ipynb\" target=\"_parent\"><img src=\"https://colab.research.google.com/assets/colab-badge.svg\" alt=\"Open In Colab\"/></a>"
      ]
    },
    {
      "cell_type": "markdown",
      "source": [
        "# Assignment 4 Tasks\n",
        "## 1. Create & Modify Lists"
      ],
      "metadata": {
        "id": "Qgn2_GOjHix0"
      }
    },
    {
      "cell_type": "code",
      "source": [
        "# 1. Create and Modify Lists\n",
        "fruits = [\"apple\", \"banana\", \"orange\"]\n",
        "fruits.append(\"grape\")                 # Add \"grape\" to the end\n",
        "fruits.insert(2, \"mango\")              # Insert \"mango\" at position 2\n",
        "fruits.remove(\"banana\")                # Remove \"banana\"\n",
        "print(\"Final fruits list:\", fruits)\n",
        "\n",
        "# 2. List Operations\n",
        "numbers = [10, 20, 30, 40, 50]\n",
        "more_numbers = [60, 70, 80]\n",
        "all_numbers = numbers + more_numbers   # Combine both lists\n",
        "numbers_copy = all_numbers.copy()      # Make a copy\n",
        "numbers_copy.reverse()                 # Reverse the copy\n",
        "print(\"All numbers:\", all_numbers)\n",
        "print(\"Reversed copy:\", numbers_copy)\n",
        "\n",
        "# 3. Sorting and Counting\n",
        "scores = [85, 92, 78, 65, 92, 85, 74]\n",
        "scores.sort()                          # Sort ascending\n",
        "print(\"Scores in ascending order:\", scores)\n",
        "scores.sort(reverse=True)              # Sort descending\n",
        "print(\"Scores in descending order:\", scores)"
      ],
      "metadata": {
        "colab": {
          "base_uri": "https://localhost:8080/"
        },
        "id": "nURiBw_sJdci",
        "outputId": "3b2c2ebf-83e4-447c-b3fe-0c2b75392fa1"
      },
      "execution_count": null,
      "outputs": [
        {
          "output_type": "stream",
          "name": "stdout",
          "text": [
            "Final fruits list: ['apple', 'mango', 'orange', 'grape']\n",
            "All numbers: [10, 20, 30, 40, 50, 60, 70, 80]\n",
            "Reversed copy: [80, 70, 60, 50, 40, 30, 20, 10]\n",
            "Scores in ascending order: [65, 74, 78, 85, 85, 92, 92]\n",
            "Scores in descending order: [92, 92, 85, 85, 78, 74, 65]\n"
          ]
        }
      ]
    }
  ]
}