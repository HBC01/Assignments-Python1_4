{
  "nbformat": 4,
  "nbformat_minor": 0,
  "metadata": {
    "colab": {
      "provenance": [],
      "toc_visible": true,
      "authorship_tag": "ABX9TyOzclQq1CrbyqEAnxG7dJKN",
      "include_colab_link": true
    },
    "kernelspec": {
      "name": "python3",
      "display_name": "Python 3"
    },
    "language_info": {
      "name": "python"
    }
  },
  "cells": [
    {
      "cell_type": "markdown",
      "metadata": {
        "id": "view-in-github",
        "colab_type": "text"
      },
      "source": [
        "<a href=\"https://colab.research.google.com/github/HBC01/Assignments-Python1_4/blob/main/Assignment_1.ipynb\" target=\"_parent\"><img src=\"https://colab.research.google.com/assets/colab-badge.svg\" alt=\"Open In Colab\"/></a>"
      ]
    },
    {
      "cell_type": "markdown",
      "source": [
        "#Part 1: Understanding String Literals\n",
        " 1. Create three different strings    using each type of quotation:"
      ],
      "metadata": {
        "id": "rJnTFfVQwPq1"
      }
    },
    {
      "cell_type": "markdown",
      "source": [
        "- Single quotes ('example')"
      ],
      "metadata": {
        "id": "RsCdVOSqy5Cp"
      }
    },
    {
      "cell_type": "code",
      "execution_count": null,
      "metadata": {
        "colab": {
          "base_uri": "https://localhost:8080/"
        },
        "id": "OSsRSWjdwIkD",
        "outputId": "1a337bbe-574e-46fe-c9dd-2f3ee51b7b1d"
      },
      "outputs": [
        {
          "output_type": "stream",
          "name": "stdout",
          "text": [
            "This is Hazoor Ahmed\n"
          ]
        }
      ],
      "source": [
        "print('This is Hazoor Ahmed')"
      ]
    },
    {
      "cell_type": "markdown",
      "source": [
        "\n",
        "- Double quotes (\"example\")"
      ],
      "metadata": {
        "id": "isTWtcm9y8kl"
      }
    },
    {
      "cell_type": "code",
      "source": [
        "print (\"this sentence is in 'double' quotes\\n this will be written in new line\")"
      ],
      "metadata": {
        "colab": {
          "base_uri": "https://localhost:8080/"
        },
        "id": "VWV8FwzlzCAL",
        "outputId": "7816d055-dcbc-4a4f-e835-561b8ffef140"
      },
      "execution_count": null,
      "outputs": [
        {
          "output_type": "stream",
          "name": "stdout",
          "text": [
            "this sentence is in 'double' quotes\n",
            " this will be written in new line\n"
          ]
        }
      ]
    },
    {
      "cell_type": "markdown",
      "source": [
        "- Triple quotes (\"\"\"example\"\"\")\n",
        "\n",
        " Also we write our code in multiple lines continue"
      ],
      "metadata": {
        "id": "bvW4Pk1WzNqJ"
      }
    },
    {
      "cell_type": "code",
      "source": [
        "print(\"\"\"I am Hazoor Ahmed\n",
        "From Ghotki\n",
        "It is written in multiple lines,\n",
        "result will come in line by line\n",
        " as we write.\n",
        "\"\"\")"
      ],
      "metadata": {
        "colab": {
          "base_uri": "https://localhost:8080/"
        },
        "id": "62LyaKDkzgkq",
        "outputId": "abb01045-5b4b-467f-bf36-4a74a447e77b"
      },
      "execution_count": null,
      "outputs": [
        {
          "output_type": "stream",
          "name": "stdout",
          "text": [
            "I am Hazoor Ahmed \n",
            "From Ghotki\n",
            "It is written in multiple lines,\n",
            "result will come in line by line\n",
            " as we write.\n",
            "\n"
          ]
        }
      ]
    },
    {
      "cell_type": "markdown",
      "source": [
        "2. Explain in your own words: What is the advantage of each type of quotation?"
      ],
      "metadata": {
        "id": "cAv6M19r4641"
      }
    },
    {
      "cell_type": "code",
      "source": [
        "print (\"\"\"According above code.\n",
        "We learned that\n",
        "we can use 3 types of (quotes) symbols in our code,\n",
        "What's the results come by using\n",
        "'single', \"double\" or triple quotes symbols,\n",
        "We easily understand that\n",
        "single & double quotes gives same results\n",
        "but we can't write code in multiple lines\n",
        "as write in multiple lines the result will though an error\n",
        "If else we use \"\"Triple\"\" quotes result we appear as we write code.\n",
        "\n",
        "\"\"\")"
      ],
      "metadata": {
        "colab": {
          "base_uri": "https://localhost:8080/"
        },
        "id": "9HUNnkgO5DJJ",
        "outputId": "d53033b8-3645-4357-efba-44df2092d63a"
      },
      "execution_count": null,
      "outputs": [
        {
          "output_type": "stream",
          "name": "stdout",
          "text": [
            "According above code.\n",
            "We learned that\n",
            "we can use 3 types of (quotes) symbols in our code,\n",
            "What's the results come by using \n",
            "'single', \"double\" or triple quotes symbols,\n",
            "We easily understand that \n",
            "single & double quotes gives same results \n",
            "but we can't write code in multiple lines \n",
            "as write in multiple lines the result will though an error \n",
            "If else we use \"\"Triple\"\" quotes result we appear as we write code.\n",
            "\n",
            "\n"
          ]
        }
      ]
    },
    {
      "cell_type": "markdown",
      "source": [
        " 3. Write a string that contains both single and double quotes inside it."
      ],
      "metadata": {
        "id": "5ZCcO0e77-AS"
      }
    },
    {
      "cell_type": "code",
      "source": [
        "print(\"\"\"\n",
        "If we use '' in single code line\n",
        "\n",
        "like this print('this is 'Hazoor' Ahmed')\n",
        "It will give error\n",
        " but not in this like print('it ''is'' my pen do \"you\" like')\n",
        "\n",
        "In double quotes works same above\n",
        "Error: print(\" hello , \"my\" Friend & it gives  in if use triple\")\n",
        "No in using single quotes, print(\" 'Are' '''you''' 'here'\")\n",
        "Can't write triple quotes inside triple line code\n",
        "\"\"\")"
      ],
      "metadata": {
        "colab": {
          "base_uri": "https://localhost:8080/"
        },
        "id": "_RsNbqZb8ahH",
        "outputId": "2c86743d-982e-4cde-c665-38d18cabbcab"
      },
      "execution_count": null,
      "outputs": [
        {
          "output_type": "stream",
          "name": "stdout",
          "text": [
            "\n",
            "If we use '' in single code line \n",
            "\n",
            "like this print('this is 'Hazoor' Ahmed')\n",
            "It will give error\n",
            " but not in this like print('it ''is'' my pen do \"you\" like')\n",
            "\n",
            "In double quotes works same above\n",
            "Error: print(\" hello , \"my\" Friend & it gives  in if use triple\")\n",
            "No in using single quotes, print(\" 'Are' '''you''' 'here'\")\n",
            "Can't write triple quotes inside triple line code\n",
            "\n"
          ]
        }
      ]
    },
    {
      "cell_type": "markdown",
      "source": [
        "4. Create a multi-line string using triple quotes that describes your favorite hobby."
      ],
      "metadata": {
        "id": "o8D2uH72AxVf"
      }
    },
    {
      "cell_type": "code",
      "source": [
        "print(\"\"\" \"My Hobby\"\n",
        "\n",
        "I love reading books. It's a great way to gain knowledge.\n",
        "My favorite book is \"The Alchemist\".\n",
        "I read every night before sleeping.\n",
        "It's a 'habit' that keeps me relaxed.\n",
        "Reading helps me explore new ideas and perspectives.\n",
        "\"\"\")"
      ],
      "metadata": {
        "colab": {
          "base_uri": "https://localhost:8080/"
        },
        "id": "2IydqjbYA75z",
        "outputId": "0777f315-82a5-4a33-c886-5c22a9ac2e7e"
      },
      "execution_count": null,
      "outputs": [
        {
          "output_type": "stream",
          "name": "stdout",
          "text": [
            " \"My Hobby\"\n",
            "\n",
            "I love reading books. It's a great way to gain knowledge.  \n",
            "My favorite book is \"The Alchemist\".  \n",
            "I read every night before sleeping.  \n",
            "It's a 'habit' that keeps me relaxed.  \n",
            "Reading helps me explore new ideas and perspectives.  \n",
            "\n"
          ]
        }
      ]
    },
    {
      "cell_type": "markdown",
      "source": [
        "#part 1 completed"
      ],
      "metadata": {
        "id": "C4p5LBV5BuQw"
      }
    },
    {
      "cell_type": "markdown",
      "source": [
        "#Part 2: String Methods Practice\n",
        "\n",
        "1. Create a variable full_name with your full name (first and last name). Then write code\n",
        "to:\n",
        "o\n",
        " - Print your name with the first letter of each name capitalized"
      ],
      "metadata": {
        "id": "-8QbB6aoB8Ec"
      }
    },
    {
      "cell_type": "code",
      "source": [
        "full_name=input(\"write your full name in any case :  \")\n",
        "if full_name: print(\"Your name is in Title case: \",full_name.title())"
      ],
      "metadata": {
        "colab": {
          "base_uri": "https://localhost:8080/"
        },
        "id": "as8nTvE4B2na",
        "outputId": "e3d9e68a-1320-40ea-a873-95f3ce60b668"
      },
      "execution_count": null,
      "outputs": [
        {
          "output_type": "stream",
          "name": "stdout",
          "text": [
            "write your full name in any case :  Juh jjjh kkj\n",
            "Your name is in Title case:  Juh Jjjh Kkj\n"
          ]
        }
      ]
    },
    {
      "cell_type": "markdown",
      "source": [
        "- Print your name in all uppercase letters"
      ],
      "metadata": {
        "id": "2rW9NVW3EuAu"
      }
    },
    {
      "cell_type": "code",
      "source": [
        "print(input (\"write something this will appear in upper case : \").upper())"
      ],
      "metadata": {
        "colab": {
          "base_uri": "https://localhost:8080/"
        },
        "id": "sryW1si6E3JV",
        "outputId": "763b4495-0254-4dc2-990b-f857b26853d8"
      },
      "execution_count": null,
      "outputs": [
        {
          "output_type": "stream",
          "name": "stdout",
          "text": [
            "write something this will appear in upper case : Kkjk\n",
            "KKJK\n"
          ]
        }
      ]
    },
    {
      "cell_type": "markdown",
      "source": [
        "-  Print your name in all lowercase letters"
      ],
      "metadata": {
        "id": "CqR1iAEHFUNv"
      }
    },
    {
      "cell_type": "code",
      "source": [
        "print(input (\"write something this will appear in lower case : \").lower())"
      ],
      "metadata": {
        "colab": {
          "base_uri": "https://localhost:8080/"
        },
        "id": "Tujuh3l8Fdgw",
        "outputId": "615537f9-ac5d-47de-d6a2-e9b146cea467"
      },
      "execution_count": null,
      "outputs": [
        {
          "output_type": "stream",
          "name": "stdout",
          "text": [
            "write something this will appear in lower case : Kjjh JJJ345\n",
            "kjjh jjj345\n"
          ]
        }
      ]
    },
    {
      "cell_type": "markdown",
      "source": [
        "2. Create a variable messy_text = \" Python programming is fun! \" Then write code\n",
        "to:"
      ],
      "metadata": {
        "id": "2hGD0y9EQupK"
      }
    },
    {
      "cell_type": "markdown",
      "source": [
        "- Remove all the extra spaces at the beginning and end"
      ],
      "metadata": {
        "id": "JX0--79cRSrm"
      }
    },
    {
      "cell_type": "code",
      "source": [
        "\n",
        " extra_spaces = \"    Extara space has been reduced.  \"\n",
        "\n",
        "print(extra_spaces)\n",
        "print(extra_spaces.strip(),\"removed spaces both sides\")\n",
        "print(extra_spaces.lstrip(),\"Removed extra spaces from left\")\n",
        "print(extra_spaces.rstrip(),\"Deleted spaces from right side\")"
      ],
      "metadata": {
        "colab": {
          "base_uri": "https://localhost:8080/"
        },
        "id": "QBBGQVUCRNu8",
        "outputId": "6e6470ac-cf3b-46a3-fff4-5635ccf77848"
      },
      "execution_count": null,
      "outputs": [
        {
          "output_type": "stream",
          "name": "stdout",
          "text": [
            "    Extara space has been reduced.  \n",
            "Extara space has been reduced. removed spaces both sides\n",
            "Extara space has been reduced.   Removed extra spaces from left\n",
            "    Extara space has been reduced. Deleted spaces from right side\n"
          ]
        }
      ]
    },
    {
      "cell_type": "markdown",
      "source": [
        "- Replace \"fun\" with \"amazing\""
      ],
      "metadata": {
        "id": "HdSRrUubjRnq"
      }
    },
    {
      "cell_type": "code",
      "source": [
        "sentence=\"At the beach many people were enjoying & boys were playing with each other;\"\n",
        "\n",
        "\n",
        "print (sentence)\n",
        "print (sentence.replace(\"boys\",\"Friends\"),\"\\nboys has been replaced with Friends\")"
      ],
      "metadata": {
        "colab": {
          "base_uri": "https://localhost:8080/"
        },
        "id": "CClq4kgIjVZi",
        "outputId": "0f1a601b-d431-452e-98f6-8a1a74977d94"
      },
      "execution_count": null,
      "outputs": [
        {
          "output_type": "stream",
          "name": "stdout",
          "text": [
            "At the beach many people were enjoying & boys were playing with each other;\n",
            "At the beach many people were enjoying & Friends were playing with each other; \n",
            "boys has been replaced with Friends\n"
          ]
        }
      ]
    },
    {
      "cell_type": "markdown",
      "source": [
        "-  Count how many times the letter 'i' appears"
      ],
      "metadata": {
        "id": "0CEgYpAnk-od"
      }
    },
    {
      "cell_type": "code",
      "source": [
        "address=(\"My name is Hazoor Ahmed,I like the this country,\")\n",
        "print (address.count(\"i\"),\"this will show only i letter not I \")"
      ],
      "metadata": {
        "colab": {
          "base_uri": "https://localhost:8080/"
        },
        "id": "SDtMzvlXlCb9",
        "outputId": "44de1b67-971d-4667-fe4f-235d88bd4ce5"
      },
      "execution_count": null,
      "outputs": [
        {
          "output_type": "stream",
          "name": "stdout",
          "text": [
            "3 this will show only i letter not I \n"
          ]
        }
      ]
    },
    {
      "cell_type": "markdown",
      "source": [
        "3. Create a variable sentence = \"The quick brown fox jumps over the lazy dog\"\n",
        "Then write code to"
      ],
      "metadata": {
        "id": "eJbphVHAtHdw"
      }
    },
    {
      "cell_type": "markdown",
      "source": [
        "- Split this sentence into a list of words"
      ],
      "metadata": {
        "id": "X47SVlqktKGf"
      }
    },
    {
      "cell_type": "code",
      "source": [
        "sentence = \"The quick brown fox jumps over the lazy dog\"\n",
        "print (sentence.split(),\"this breaks in only by default words\")\n",
        "words=sentence.split()\n",
        "print (words)\n",
        "greet =\"hello, bro, how, are you?\"\n",
        "\n",
        "spt =greet.split()\n",
        "separater=greet.split(\",\",1)\n",
        "\n",
        "print (spt,separater,\"which symbol you give inside split\\n like , or ; then it will separate like symbol\")"
      ],
      "metadata": {
        "colab": {
          "base_uri": "https://localhost:8080/"
        },
        "id": "z7aC3lR0tRaH",
        "outputId": "78e2f0b9-59ec-4978-f9ee-477ccfd85192"
      },
      "execution_count": null,
      "outputs": [
        {
          "output_type": "stream",
          "name": "stdout",
          "text": [
            "['The', 'quick', 'brown', 'fox', 'jumps', 'over', 'the', 'lazy', 'dog'] this breaks in only by default words\n",
            "['The', 'quick', 'brown', 'fox', 'jumps', 'over', 'the', 'lazy', 'dog']\n",
            "['hello,', 'bro,', 'how,', 'are', 'you?'] ['hello', ' bro, how, are you?'] which symbol you give inside split\n",
            " like , or ; then it will separate like symbol\n"
          ]
        }
      ]
    },
    {
      "cell_type": "code",
      "source": [
        "\n",
        "log =input(\"text : \")\n",
        "print (log.split())"
      ],
      "metadata": {
        "colab": {
          "base_uri": "https://localhost:8080/"
        },
        "id": "6P7WswuCIe_P",
        "outputId": "be4f5fa4-1fe7-4966-fa99-3026c2e4f949"
      },
      "execution_count": null,
      "outputs": [
        {
          "output_type": "stream",
          "name": "stdout",
          "text": [
            "text : Jju jjj jjj\n",
            "['Jju', 'jjj', 'jjj']\n"
          ]
        }
      ]
    },
    {
      "cell_type": "markdown",
      "source": [
        "-  Join the words back together with dashes between them"
      ],
      "metadata": {
        "id": "9hbdEy_LPLeB"
      }
    },
    {
      "cell_type": "code",
      "source": [
        "words = ['hello', 'bro!', 'how', 'are', 'you?']\n",
        "joined_sentence = \"-\".join(words)\n",
        "print(joined_sentence)"
      ],
      "metadata": {
        "colab": {
          "base_uri": "https://localhost:8080/"
        },
        "id": "1lRJdWlsZtJB",
        "outputId": "18934377-470f-42b1-c726-8c092f43c6b1"
      },
      "execution_count": null,
      "outputs": [
        {
          "output_type": "stream",
          "name": "stdout",
          "text": [
            "hello-bro!-how-are-you?\n"
          ]
        }
      ]
    },
    {
      "cell_type": "code",
      "source": [
        "name =\"Hazoor Ahmed\"\n",
        "caste =\"Chachar\"\n",
        "\n",
        "print(name+\" \"+caste)\n",
        "\n",
        "print(f\"Name : {name} , Caste : {caste}\")\n",
        "\n",
        "f_name=input(\"Write your First Name : \")\n",
        "l_name=input(\"Write your Last Name : \")\n",
        "age=input(\"write your age : \")\n",
        "print (f\"{f_name} {l_name} you are {age} years old\")"
      ],
      "metadata": {
        "colab": {
          "base_uri": "https://localhost:8080/"
        },
        "id": "kEOIF_1YPfhK",
        "outputId": "1e30762e-f80c-4422-e65d-2499abab64ed"
      },
      "execution_count": null,
      "outputs": [
        {
          "output_type": "stream",
          "name": "stdout",
          "text": [
            "Hazoor Ahmed Chachar\n",
            "Name : Hazoor Ahmed , Caste : Chachar\n",
            "Write your First Name : Hja\n",
            "Write your Last Name : Ad\n",
            "write your age : S\n",
            "HjaAd you are S years old\n"
          ]
        }
      ]
    },
    {
      "cell_type": "markdown",
      "source": [
        "-  Check if the sentence starts with \"The\""
      ],
      "metadata": {
        "id": "EKR0Y3RLZ5Fz"
      }
    },
    {
      "cell_type": "code",
      "source": [
        "check = \"Pakistan is the most beautiful country\"\n",
        "if check.startswith(\"The\"):print(\"Yes\")\n",
        "else:print(\"No\")"
      ],
      "metadata": {
        "colab": {
          "base_uri": "https://localhost:8080/"
        },
        "id": "m0SgRCrMZ-SA",
        "outputId": "0ecc8736-b30e-46bb-8f0f-08d2dd9fd65b"
      },
      "execution_count": null,
      "outputs": [
        {
          "output_type": "stream",
          "name": "stdout",
          "text": [
            "No\n"
          ]
        }
      ]
    },
    {
      "cell_type": "code",
      "source": [
        "if check.startswith( \"The\"): print (True,\"Stars with The\")\n",
        "else:print(False,\"Not starts with word the\")"
      ],
      "metadata": {
        "colab": {
          "base_uri": "https://localhost:8080/"
        },
        "id": "gUrjvuwlcm--",
        "outputId": "05998746-7b87-4928-b37e-f4587b8cec7b"
      },
      "execution_count": null,
      "outputs": [
        {
          "output_type": "stream",
          "name": "stdout",
          "text": [
            "False Not starts with word the\n"
          ]
        }
      ]
    },
    {
      "cell_type": "markdown",
      "source": [
        "-  Find the position of the word \"fox\""
      ],
      "metadata": {
        "id": "SFAzzjj-dIZt"
      }
    },
    {
      "cell_type": "code",
      "source": [
        "place =\"Embrace not the journey, not just the not destination.\"\n",
        "\n",
        "I=place.index(\"not\")\n",
        "sn =place.find(\"not\",I + 1)\n",
        "print(I,sn)"
      ],
      "metadata": {
        "colab": {
          "base_uri": "https://localhost:8080/"
        },
        "id": "XtAJLOI1dMM-",
        "outputId": "6bb82abc-0f44-456b-8c65-b6d38c5c6e40"
      },
      "execution_count": null,
      "outputs": [
        {
          "output_type": "stream",
          "name": "stdout",
          "text": [
            "8 25\n"
          ]
        }
      ]
    },
    {
      "cell_type": "markdown",
      "source": [
        "# Part 3: F-Strings"
      ],
      "metadata": {
        "id": "qoL_bjj16a1c"
      }
    },
    {
      "cell_type": "markdown",
      "source": [],
      "metadata": {
        "id": "Wz5-KoZ57Dba"
      }
    },
    {
      "cell_type": "code",
      "source": [
        "\n",
        "your_name = \"Hazoor Ahmed\"\n",
        "your_age = 25\n",
        "language = \"Python\"\n",
        "\n",
        "# Using f-strings\n",
        "print(f\"My name is {your_name} and I am {your_age} years old.\")\n",
        "print(f\"I enjoy programming in {language}, it's my favorite!\")\n",
        "print(f\"In 5 years, I will be {your_age + 5} years old.\")"
      ],
      "metadata": {
        "colab": {
          "base_uri": "https://localhost:8080/"
        },
        "id": "D1aU73p-7FMb",
        "outputId": "f9f73ec7-1e40-4547-e6ba-394f33979b5b"
      },
      "execution_count": null,
      "outputs": [
        {
          "output_type": "stream",
          "name": "stdout",
          "text": [
            "My name is Hazoor Ahmed and I am 25 years old.\n",
            "I enjoy programming in Python, it's my favorite!\n",
            "In 5 years, I will be 30 years old.\n"
          ]
        }
      ]
    },
    {
      "cell_type": "markdown",
      "source": [
        "# Part 4: Combining String Methods with F-Strings"
      ],
      "metadata": {
        "id": "Ziit2ss078vv"
      }
    },
    {
      "cell_type": "markdown",
      "source": [
        "Create a program that:\n",
        "1. Asks for user input about their first name, last name, and birth year\n",
        "2. Uses string methods to properly capitalize their name\n",
        "3. Uses f-strings to create a profile message: \"Profile: {First Last}, Age: {calculated age},\n",
        "Username: {first initial + last name + birth year}\""
      ],
      "metadata": {
        "id": "t3EX6LKd8C5E"
      }
    },
    {
      "cell_type": "code",
      "source": [
        "# Get user input for name\n",
        "first_name = input(\"Enter your first name: \").strip()\n",
        "last_name = input(\"Enter your last name: \").strip()\n",
        "\n",
        "# Validate birth year using a loop\n",
        "while True:\n",
        "    birth_year_input = input(\"Enter your birth year: \").strip()\n",
        "\n",
        "    if birth_year_input.isdigit():  # Check if input is a valid number\n",
        "        birth_year = int(birth_year_input)\n",
        "        year = 2025  # Current year\n",
        "        age = year - birth_year\n",
        "        break  # Exit loop if valid input is given\n",
        "    else:\n",
        "        print(\"Invalid input. Please enter a valid birth year (numbers only).\")\n",
        "\n",
        "# Capitalize first and last name properly\n",
        "first_name = first_name.capitalize()\n",
        "last_name = last_name.capitalize()\n",
        "\n",
        "# Generate username\n",
        "username = f\"{first_name[0].lower()}{last_name.lower()}{birth_year}\"\n",
        "\n",
        "# Create profile message\n",
        "profile_message = f\"Bio Data: {first_name} {last_name}, Age: {age}, Username: {username}\"\n",
        "\n",
        "# Display output\n",
        "print(profile_message)"
      ],
      "metadata": {
        "colab": {
          "base_uri": "https://localhost:8080/"
        },
        "id": "Z_i7YQOl8rpJ",
        "outputId": "38357520-7396-446b-afe2-63d9ae42c1e1"
      },
      "execution_count": null,
      "outputs": [
        {
          "output_type": "stream",
          "name": "stdout",
          "text": [
            "Enter your first name:       hazoor Ahmed \n",
            "Enter your last name:    Khan\n",
            "Enter your birth year: Kqka\n",
            "Invalid input. Please enter a valid birth year (numbers only).\n",
            "Enter your birth year: 202\n",
            "Bio Data: Hazoor ahmed Khan, Age: 1823, Username: hkhan202\n"
          ]
        }
      ]
    }
  ]
}