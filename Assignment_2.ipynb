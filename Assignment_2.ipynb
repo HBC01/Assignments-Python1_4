{
  "nbformat": 4,
  "nbformat_minor": 0,
  "metadata": {
    "colab": {
      "provenance": [],
      "authorship_tag": "ABX9TyPdAYcBdgYaH96eBP0Vu7x7",
      "include_colab_link": true
    },
    "kernelspec": {
      "name": "python3",
      "display_name": "Python 3"
    },
    "language_info": {
      "name": "python"
    }
  },
  "cells": [
    {
      "cell_type": "markdown",
      "metadata": {
        "id": "view-in-github",
        "colab_type": "text"
      },
      "source": [
        "<a href=\"https://colab.research.google.com/github/HBC01/Assignments-Python1_4/blob/main/Assignment_2.ipynb\" target=\"_parent\"><img src=\"https://colab.research.google.com/assets/colab-badge.svg\" alt=\"Open In Colab\"/></a>"
      ]
    },
    {
      "cell_type": "markdown",
      "source": [
        "# Simple Calculator"
      ],
      "metadata": {
        "id": "-H4-5ikultEw"
      }
    },
    {
      "cell_type": "code",
      "execution_count": null,
      "metadata": {
        "colab": {
          "base_uri": "https://localhost:8080/"
        },
        "id": "u1LHxYK1j59g",
        "outputId": "54149979-b323-40b3-a5b2-9313a4b16329"
      },
      "outputs": [
        {
          "output_type": "stream",
          "name": "stdout",
          "text": [
            "Simple Calculator\n",
            "1. Add\n",
            "2. Subtract\n",
            "3. Multiply\n",
            "4. Divide\n",
            "Enter choice (1-4): 1\n",
            "Enter first number: 4\n",
            "Enter second number: 7\n",
            "4.0 + 7.0 = 11.0\n"
          ]
        }
      ],
      "source": [
        "\n",
        "def calculator():\n",
        "    print(\"Simple Calculator\")\n",
        "    print(\"1. Add\")\n",
        "    print(\"2. Subtract\")\n",
        "    print(\"3. Multiply\")\n",
        "    print(\"4. Divide\")\n",
        "\n",
        "\n",
        "    choice = int(input(\"Enter choice (1-4): \"))\n",
        "\n",
        "\n",
        "    num1 = float(input(\"Enter first number: \"))\n",
        "    num2 = float(input(\"Enter second number: \"))\n",
        "\n",
        "\n",
        "    if choice == 1:\n",
        "        result = num1 + num2\n",
        "        print(f\"{num1} + {num2} = {result}\")\n",
        "    elif choice == 2:\n",
        "        result = num1 - num2\n",
        "        print(f\"{num1} - {num2} = {result}\")\n",
        "    elif choice == 3:\n",
        "        result = num1 * num2\n",
        "        print(f\"{num1} * {num2} = {result}\")\n",
        "    elif choice == 4:\n",
        "        if num2 != 0:\n",
        "            result = num1 / num2\n",
        "            print(f\"{num1} / {num2} = {result}\")\n",
        "        else:\n",
        "            print(\"Error: Cannot divide by zero\")\n",
        "    else:\n",
        "        print(\"Invalid choice\")\n",
        "calculator ()"
      ]
    },
    {
      "cell_type": "markdown",
      "source": [
        "# Grade Calculator with percentage & Grade"
      ],
      "metadata": {
        "id": "aycezCkLl1Kz"
      }
    },
    {
      "cell_type": "code",
      "source": [
        "\n",
        "total_marks = float(input(\"Enter Total Marks: \"))\n",
        "obtained_marks = float(input(\"Enter Obtained Marks: \"))\n",
        "\n",
        "if total_marks > 0:\n",
        "    # Calculating Percentage\n",
        "    percentage = (obtained_marks / total_marks) * 100\n",
        "\n",
        "    # Grades\n",
        "    if percentage >= 90:\n",
        "        grade = \"A+\"\n",
        "    elif percentage >= 80:\n",
        "        grade = \"A\"\n",
        "    elif percentage >= 70:\n",
        "        grade = \"B\"\n",
        "    elif percentage >= 60:\n",
        "        grade = \"C\"\n",
        "    elif percentage >= 50:\n",
        "        grade = \"D\"\n",
        "    elif percentage<=40:\n",
        "        grade=\"Fail\"\n",
        "    else:\n",
        "        grade = \"F\"\n",
        "\n",
        "    # Result\n",
        "    print(\"\\n🎯 Result:\")\n",
        "    print(f\"Percentage: {percentage:.2f}%\")\n",
        "    print(f\"Grade: {grade}\")\n",
        "else:\n",
        "    print(\"❌ Invalid Total Marks! Must be greater than 0.\")"
      ],
      "metadata": {
        "colab": {
          "base_uri": "https://localhost:8080/"
        },
        "id": "idjV6GDrmtbV",
        "outputId": "f83fd5be-1003-4f51-e44a-207b884350b6"
      },
      "execution_count": null,
      "outputs": [
        {
          "output_type": "stream",
          "name": "stdout",
          "text": [
            "Enter Total Marks: 100\n",
            "Enter Obtained Marks: 30\n",
            "\n",
            "🎯 Result:\n",
            "Percentage: 30.00%\n",
            "Grade: Fail\n"
          ]
        }
      ]
    }
  ]
}