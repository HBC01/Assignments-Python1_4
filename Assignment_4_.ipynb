{
  "cells": [
    {
      "cell_type": "markdown",
      "metadata": {
        "id": "view-in-github",
        "colab_type": "text"
      },
      "source": [
        "<a href=\"https://colab.research.google.com/github/HBC01/Assignments-Python1_4/blob/main/Assignment_4_.ipynb\" target=\"_parent\"><img src=\"https://colab.research.google.com/assets/colab-badge.svg\" alt=\"Open In Colab\"/></a>"
      ]
    },
    {
      "cell_type": "markdown",
      "metadata": {
        "id": "Qgn2_GOjHix0"
      },
      "source": [
        "# Assignment 4 Tasks\n",
        "# 1.List Methods Practice"
      ]
    },
    {
      "cell_type": "markdown",
      "metadata": {
        "id": "9JJjAwONnjcI"
      },
      "source": [
        "##1. Create and Modify Lists"
      ]
    },
    {
      "cell_type": "markdown",
      "metadata": {
        "id": "Ai12ArdJnrOy"
      },
      "source": [
        "Create a list called fruits with the items: \"apple\", \"banana\", \"orange\""
      ]
    },
    {
      "cell_type": "code",
      "execution_count": null,
      "metadata": {
        "colab": {
          "base_uri": "https://localhost:8080/"
        },
        "id": "03IFosRGoF-b",
        "outputId": "342ddd3b-a1d6-4fdb-c834-62f257ea6015"
      },
      "outputs": [
        {
          "name": "stdout",
          "output_type": "stream",
          "text": [
            "['apple', 'banana', 'orange']\n"
          ]
        }
      ],
      "source": [
        "fruits =[\"apple\", \"banana\", \"orange\"]\n",
        "print(fruits)"
      ]
    },
    {
      "cell_type": "markdown",
      "metadata": {
        "id": "cFS1xV96oXZN"
      },
      "source": [
        "Add \"grape\" to the end of the list using an appropriate method"
      ]
    },
    {
      "cell_type": "code",
      "execution_count": null,
      "metadata": {
        "colab": {
          "base_uri": "https://localhost:8080/"
        },
        "id": "LVukCdvcocsh",
        "outputId": "fcde1ae0-9cb8-4d0a-c511-04231ca93a56"
      },
      "outputs": [
        {
          "name": "stdout",
          "output_type": "stream",
          "text": [
            "['apple', 'banana', 'orange', 'grape']\n"
          ]
        }
      ],
      "source": [
        "\n",
        "fruits =[\"apple\", \"banana\", \"orange\"]\n",
        "fruits.append(\"grape\")\n",
        "print(fruits)"
      ]
    },
    {
      "cell_type": "markdown",
      "metadata": {
        "id": "ZuEkFdT0pQrC"
      },
      "source": [
        "Insert \"mango\" at position 2 in the list"
      ]
    },
    {
      "cell_type": "code",
      "execution_count": null,
      "metadata": {
        "colab": {
          "base_uri": "https://localhost:8080/"
        },
        "id": "HzOSZyfZpUvQ",
        "outputId": "8cae9ba1-4866-44cf-8e9e-2f4ad8890515"
      },
      "outputs": [
        {
          "name": "stdout",
          "output_type": "stream",
          "text": [
            "['apple', 'mango', 'banana', 'orange']\n"
          ]
        }
      ],
      "source": [
        "fruits =[\"apple\", \"banana\", \"orange\"]\n",
        "fruits.insert(1,\"mango\")\n",
        "print (fruits)"
      ]
    },
    {
      "cell_type": "markdown",
      "metadata": {
        "id": "KmDk2YKbqjVD"
      },
      "source": [
        "Remove \"banana\" from the list"
      ]
    },
    {
      "cell_type": "code",
      "execution_count": null,
      "metadata": {
        "colab": {
          "base_uri": "https://localhost:8080/"
        },
        "id": "I5LDpSAAqm6t",
        "outputId": "10764705-74fe-4e1c-e1e2-cdd6d0f8b487"
      },
      "outputs": [
        {
          "name": "stdout",
          "output_type": "stream",
          "text": [
            "['apple', 'orange']\n"
          ]
        }
      ],
      "source": [
        "fruits =[\"apple\", \"banana\", \"orange\"]\n",
        "fruits.remove(\"banana\")\n",
        "\n",
        "print (fruits)"
      ]
    },
    {
      "cell_type": "markdown",
      "metadata": {
        "id": "FSHogEhGrPD2"
      },
      "source": [
        "##2. List Operations"
      ]
    },
    {
      "cell_type": "markdown",
      "metadata": {
        "id": "XmI3dyg4rVn9"
      },
      "source": [
        "Create a list numbers With values: 10, 20, 30, 40, 50"
      ]
    },
    {
      "cell_type": "code",
      "execution_count": null,
      "metadata": {
        "colab": {
          "base_uri": "https://localhost:8080/"
        },
        "id": "iBuwxJTZrb20",
        "outputId": "c8a42a55-59fa-4854-9f4d-2c1b4e757de3"
      },
      "outputs": [
        {
          "name": "stdout",
          "output_type": "stream",
          "text": [
            "[10, 20, 30, 40, 50, 60, 70, 80]\n",
            "[10, 20, 30, 40, 50, 60, 70, 80]\n",
            "[80, 70, 60, 50, 40, 30, 20, 10]\n",
            "[50, 40, 30, 20, 10]\n"
          ]
        }
      ],
      "source": [
        "num_list1=[10, 20, 30, 40, 50]\n",
        "#Create a second list more_numbers with values: 60, 70, 80\n",
        "num_list2 =[60,70,80]\n",
        "\n",
        "#Combine both lists into a new list called all_numbers\n",
        "all_nums= num_list1 + num_list2\n",
        "print (all_nums)\n",
        "\n",
        "#Make a copy of all numbers called numbers\n",
        "copy_list=all_nums.copy()\n",
        "copied_list = copy_list\n",
        "print(copied_list)\n",
        "#Reverse the order of numbers_copy\n",
        "\n",
        "resrv_list= list(reversed(copied_list))\n",
        "resrv_num1=num_list1[::-1]\n",
        "#using reserve slicing notation\n",
        "print (resrv_list)\n",
        "print (resrv_num1)\n",
        "#"
      ]
    },
    {
      "cell_type": "markdown",
      "metadata": {
        "id": "_Zkiue-vgzr2"
      },
      "source": [
        "##3. Sorting and Counting"
      ]
    },
    {
      "cell_type": "code",
      "execution_count": null,
      "metadata": {
        "colab": {
          "base_uri": "https://localhost:8080/"
        },
        "id": "a84ItNQig1VT",
        "outputId": "bf20b225-1940-4bd4-9a6a-85dfc562881e"
      },
      "outputs": [
        {
          "name": "stdout",
          "output_type": "stream",
          "text": [
            "[65, 74, 78, 85, 85, 92, 92]\n",
            "[92, 92, 85, 85, 78, 74, 65]\n",
            "[92, 92, 85, 85, 78, 74, 65] 2\n",
            "Highest no.  92\n",
            "lowest no.  65\n"
          ]
        }
      ],
      "source": [
        "#Create a list scores with these values: 85, 92, 78, 65, 92, 85, 74\n",
        "\n",
        "num_list = [85, 92, 78, 65, 92, 85, 74]\n",
        "#Sort the list in ascending order\n",
        "num_list.sort()\n",
        "print (num_list)\n",
        "#Sort the list in descending order\n",
        "num_list.sort(reverse=True)\n",
        "print (num_list)\n",
        "#Count how many times 92 appears in the list\n",
        "a = num_list.count(92)\n",
        "print(num_list,a)\n",
        "#Find and print the highest and lowest scores\n",
        "print(\"Highest no. \",max(num_list))\n",
        "print(\"lowest no. \",min(num_list))\n",
        "#"
      ]
    },
    {
      "cell_type": "markdown",
      "metadata": {
        "id": "DHzFgPWN3Kg4"
      },
      "source": [
        "##4. List Manipulation"
      ]
    },
    {
      "cell_type": "code",
      "execution_count": null,
      "metadata": {
        "colab": {
          "base_uri": "https://localhost:8080/"
        },
        "id": "IN-oFY_t3MVV",
        "outputId": "85308b66-c242-465c-c2ac-c3eca313c199"
      },
      "outputs": [
        {
          "name": "stdout",
          "output_type": "stream",
          "text": [
            "['a', 'b', 'c', 'd', 'e']\n",
            "First 3 letters are ['a', 'b', 'c']\n",
            "Last 2 letters are:  ['d', 'e']\n",
            "True  : mtlb c h\n",
            "2\n",
            "['a', 'b', 'c', 'z', 'e']\n",
            "['a', 'b', 'c', 'z', 'e']\n"
          ]
        }
      ],
      "source": [
        "#Create a list letters with values: \"a\", \"b\", \"c, \"d\", \"e\"\n",
        "letters_list = [\"a\",\"b\",\"c\",\"d\",\"e\"]\n",
        "print(letters_list)\n",
        "#Use slicing to create a new list with only the first three letters\n",
        "print(\"First 3 letters are\",letters_list[:3])\n",
        "#Use slicing to create another list with only the last two letters\n",
        "print(\"Last 2 letters are: \", letters_list[3:])\n",
        "#Find and print the index of \"c\" in the list\n",
        "a = \"c\" in letters_list\n",
        "print (a,\" : mtlb c h\")\n",
        "b=letters_list.index(\"c\")\n",
        "print (b)\n",
        "#Replace \"d\" with \"z\" in the original list\n",
        "letters_list[3]=\"z\"\n",
        "print(letters_list)\n",
        "new_list=list(map(lambda x: \"z\" if x == \"d\" else x, letters_list))\n",
        "print(new_list)"
      ]
    },
    {
      "cell_type": "markdown",
      "metadata": {
        "id": "JUZc2Nj5j0jU"
      },
      "source": [
        "#2.Dictionary Methods Practice"
      ]
    },
    {
      "cell_type": "markdown",
      "metadata": {
        "id": "OXEDJRbIkPYR"
      },
      "source": [
        "1. Create and Access Dictionaries"
      ]
    },
    {
      "cell_type": "markdown",
      "metadata": {
        "id": "CqKYUC7omxwd"
      },
      "source": [
        "Create a dictionary called student with these key-value pairs:\n",
        "\"name\": \"John\"\n",
        "\"age\": 20\n",
        "\"grade\": \"A\"\n",
        "\"courses\": [\"'Math\", \"Science\", \"History\"]"
      ]
    },
    {
      "cell_type": "code",
      "execution_count": null,
      "metadata": {
        "colab": {
          "base_uri": "https://localhost:8080/"
        },
        "id": "LG2-yh20k6BA",
        "outputId": "bb13d47e-f583-4a8f-c07d-3951047ee4be"
      },
      "outputs": [
        {
          "name": "stdout",
          "output_type": "stream",
          "text": [
            "John\n",
            "[\"'Math\", 'Science', 'History']\n",
            "{'name': 'John', 'age': 20, 'grade': 'A', 'courses': [\"'Math\", 'Science', 'History'], 'email': 'john@example.com'}\n"
          ]
        }
      ],
      "source": [
        "\n",
        "student={\"name\": \"John\",\"age\": 20,\"grade\": \"A\",\"courses\": [\"'Math\", \"Science\", \"History\"]}\n",
        "#Print the student's name\n",
        "print(student[\"name\"])\n",
        "#Print the list of courses\n",
        "print(student[\"courses\"])\n",
        "#Add a new key-value pair: \"email\": \"john@example.com\"\n",
        "student[\"email\"]=\"john@example.com\"\n",
        "#Print the entire dictionary\n",
        "print(student)"
      ]
    },
    {
      "cell_type": "markdown",
      "metadata": {
        "id": "R4lE_AFsovEa"
      },
      "source": [
        "##2. Modify Dictionary Values"
      ]
    },
    {
      "cell_type": "code",
      "execution_count": null,
      "metadata": {
        "colab": {
          "base_uri": "https://localhost:8080/"
        },
        "id": "8yvXTjOToxCu",
        "outputId": "a12b5a36-fece-41cc-ecd3-9c6345c6b370"
      },
      "outputs": [
        {
          "name": "stdout",
          "output_type": "stream",
          "text": [
            "{'name': 'Hazoor Ahmed', 'age': 21, 'grade': 'A', 'courses': [\"'Math\", 'Science', 'History']}\n",
            "{'name': 'Hazoor Ahmed', 'age': 21, 'grade': 'A', 'courses': [\"'Math\", 'Science', 'History', 'Computer-Science']}\n",
            "{'name': 'Hazoor Ahmed', 'age': 21, 'grade': 'A+', 'courses': [\"'Math\", 'Science', 'History', 'Computer-Science']}\n"
          ]
        }
      ],
      "source": [
        "student={\"name\": \"John\",\"age\": 20,\"grade\": \"A\",\"courses\": [\"'Math\", \"Science\", \"History\"]}\n",
        "#Change the student's age to 21\n",
        "student[\"age\"]=21\n",
        "#or\n",
        "student.update({\"name\":\"Hazoor Ahmed\"})\n",
        "print(student)\n",
        "#Add a new course \"Computer Science\" to the courses list\n",
        "student[\"courses\"].append(\"Computer-Science\")\n",
        "print(student)\n",
        "#Update the grade to \"A+\"\n",
        "student.update({\"grade\":\"A+\"})\n",
        "print(student)"
      ]
    },
    {
      "cell_type": "markdown",
      "metadata": {
        "id": "dO-GUouLsIVY"
      },
      "source": [
        "3. Dictionary Operations"
      ]
    },
    {
      "cell_type": "code",
      "execution_count": null,
      "metadata": {
        "colab": {
          "base_uri": "https://localhost:8080/"
        },
        "id": "Ubj1RQdXsJjE",
        "outputId": "b8e828b4-f96a-4e41-f774-b0a3cf76c92b"
      },
      "outputs": [
        {
          "name": "stdout",
          "output_type": "stream",
          "text": [
            "{'name': 'John', 'age': 20, 'grade': 'A', 'courses': [\"'Math\", 'Science', 'History'], 'street': '123 College Ave', 'city': 'New York', 'zip': '10001'}\n",
            "{'name': 'John', 'age': 20, 'grade': 'A', 'courses': [\"'Math\", 'Science', 'History'], 'street': '123 College Ave', 'city': 'New York', 'zip': '10001'}\n",
            "{'age': 20, 'grade': 'A', 'courses': [\"'Math\", 'Science', 'History'], 'street': '123 College Ave', 'city': 'New York'}\n",
            "not found\n"
          ]
        }
      ],
      "source": [
        "student={\"name\": \"John\",\"age\": 20,\"grade\": \"A\",\"courses\": [\"'Math\", \"Science\", \"History\"]}\n",
        "#Create a second dictionary student_address with these key-value pairs:\n",
        "#\"street\": \"123 College Ave\"\n",
        "#\"city\": \"New York\"\n",
        "#\"zip\": \"10001\"\n",
        "student_address={\"street\": \"123 College Ave\",\"city\": \"New York\",\n",
        "\"zip\": \"10001\"}\n",
        "#Combine both dictionaries into a new dictionary called student_info\n",
        "student_info=student|student_address\n",
        "#union method\n",
        "\n",
        "print(student_info)\n",
        "# unpacking method\n",
        "mrge_dic={**student,**student_address}\n",
        "print(mrge_dic)\n",
        "#Remove the \"zip\" key from studentinfo\n",
        "student_info.pop(\"zip\")\n",
        "del student_info[\"name\"]\n",
        "print (student_info)\n",
        "#Check if \"phone\" exists in the dictionary\n",
        "a=student.get(\"phone\",\"not found\")\n",
        "print (a)"
      ]
    },
    {
      "cell_type": "markdown",
      "metadata": {
        "id": "142v3jT48wif"
      },
      "source": [
        "4. Dictionary Methods"
      ]
    },
    {
      "cell_type": "code",
      "execution_count": null,
      "metadata": {
        "colab": {
          "base_uri": "https://localhost:8080/"
        },
        "id": "uKvixQca8xr-",
        "outputId": "b12aa8c3-8468-4f9b-d133-0c177f4b7e42"
      },
      "outputs": [
        {
          "name": "stdout",
          "output_type": "stream",
          "text": [
            "['hello', 'world', 'python']\n",
            "[5, 10, 15]\n",
            "hello 5\n",
            "world 10\n",
            "python 15\n",
            "[('hello', 5), ('world', 10), ('python', 15)]\n",
            "{'hello': 5, 'world': 10, 'python': 15}\n",
            "this is Original which is {}\n",
            " this is copied disc{'hello': 5, 'world': 10, 'python': 15}\n"
          ]
        }
      ],
      "source": [
        "#Create a dictionary word_count with these key-value pairs:\n",
        "#\"hello\": 5\n",
        "#\"world\": 10\n",
        "#\"python\": 15\n",
        "word_count={\"hello\": 5,\n",
        "\"world\": 10,\n",
        "\"python\": 15}\n",
        "#Get all keys and print them as a list\n",
        "keys=word_count.keys()\n",
        "print(list(keys))\n",
        "#Get all values and print them as a list\n",
        "values = word_count.values()\n",
        "print (list(values))\n",
        "#Get all key-value pairs and print them\n",
        "for keys,values in word_count.items():\n",
        "    print(keys,values)\n",
        "#or\n",
        "print (list(word_count.items()))\n",
        "\n",
        "#Make a copy of the dictionary\n",
        "copied_dic=word_count.copy()\n",
        "print(copied_dic)\n",
        "#Clear the original dictionary\n",
        "word_count.clear()\n",
        "#Print both dictionaries to verify one is empty and one is a copy\n",
        "print (f\"this is Original which is {word_count}\\n this is copied disc{copied_dic}\")"
      ]
    },
    {
      "cell_type": "markdown",
      "metadata": {
        "id": "XsyPpNwlvEWR"
      },
      "source": [
        "#Shopping Discount Calculator"
      ]
    },
    {
      "cell_type": "markdown",
      "metadata": {
        "id": "J4TambLSvGJy"
      },
      "source": [
        "#Create a Python program that calculates the final price after applicable discounts Do\n",
        "not use any functions just use variables and if statements."
      ]
    },
    {
      "cell_type": "markdown",
      "metadata": {
        "id": "h1pkl5YG2uHz"
      },
      "source": [
        "2. Apply discount rules using if statements:\n",
        "\n",
        "\n",
        "If purchase amount is greater than \"$100\", apply a 10% discount\n",
        "o If purchase amount is greater than($50) (but less than or equal to $100),\n",
        "apply a 5% discount\n",
        "If the customer is a loyalty member, apply an additional 5% discount\n",
        "o If it's a weekend (Saturday or Sunday), apply an additional 2% discount\n",
        "If it's a holiday season, apply an additional 8% discount"
      ]
    },
    {
      "cell_type": "markdown",
      "metadata": {
        "id": "itR25rVP2vhF"
      },
      "source": [
        "Calculate and display:\n",
        "o The original purchase amount\n",
        "o Each discount that was applied and its amount\n",
        "o The final price after all discounts"
      ]
    },
    {
      "cell_type": "code",
      "source": [
        "\n",
        "print(\"Welcome to use Discount calculator\")\n",
        "\n",
        "purchase_amount = float(input(\"Write purchase amount: \"))\n",
        "is_loyalty_member = input(\"Are you a loyalty member? (yes/no): \").lower()\n",
        "day_of_week = input(\"Write today’s day: \").strip().lower()\n",
        "is_holiday_season = input(\"Is it holiday season? (yes/no): \").lower()\n",
        "\n",
        "\n",
        "final_price = purchase_amount\n",
        "total_discount = 0\n",
        "\n",
        "\n",
        "if purchase_amount > 100:\n",
        "    discount = final_price * 0.10\n",
        "    final_price -= discount\n",
        "    total_discount += discount\n",
        "    print(\"10% discount: -$\", round(discount, 2))\n",
        "elif 50 <= purchase_amount <= 100:\n",
        "    discount = final_price * 0.05\n",
        "    final_price -= discount\n",
        "    total_discount += discount\n",
        "    print(\"5% discount: -$\", round(discount, 2))\n",
        "\n",
        "\n",
        "if is_loyalty_member == \"yes\":\n",
        "    discount = final_price * 0.05\n",
        "    final_price -= discount\n",
        "    total_discount += discount\n",
        "    print(\"5% loyalty discount: -$\", round(discount, 2))\n",
        "\n",
        "\n",
        "if day_of_week in (\"saturday\", \"sunday\"):\n",
        "    discount = final_price * 0.02\n",
        "    final_price -= discount\n",
        "    total_discount += discount\n",
        "    print(\"2% weekend discount: -$\", round(discount, 2))\n",
        "\n",
        "\n",
        "if is_holiday_season == \"yes\":\n",
        "    discount = final_price * 0.08\n",
        "    final_price -= discount\n",
        "    total_discount += discount\n",
        "    print(\"8% holiday discount: -$\", round(discount, 2))\n",
        "\n",
        "\n",
        "print(\"Total discounts applied: $\", round(total_discount, 2))\n",
        "print(\"Final price to pay: $\", round(final_price, 2))"
      ],
      "metadata": {
        "colab": {
          "base_uri": "https://localhost:8080/"
        },
        "id": "lLT1jRWN4yLY",
        "outputId": "0cb37947-a5df-450b-bf94-cac3f9fd12a0"
      },
      "execution_count": null,
      "outputs": [
        {
          "output_type": "stream",
          "name": "stdout",
          "text": [
            "Welcome to use Discount calculator\n",
            "Write purchase amount: 1000\n",
            "Are you a loyalty member? (yes/no): Yes\n",
            "Write today’s day: Sunday \n",
            "Is it holiday season? (yes/no): Yes\n",
            "10% discount: -$ 100.0\n",
            "5% loyalty discount: -$ 45.0\n",
            "2% weekend discount: -$ 17.1\n",
            "8% holiday discount: -$ 67.03\n",
            "Total discounts applied: $ 229.13\n",
            "Final price to pay: $ 770.87\n"
          ]
        }
      ]
    },
    {
      "cell_type": "markdown",
      "source": [
        "#For Loop Assignment - Number Patterns\n",
        "Assignment Overview:\n",
        "In this assignment, you will create number patterns using for loops in Python.\n",
        "Instructions:\n",
        "Write a Python program that generates the following patterns using for loops:\n",
        "1. Pattern 1: Counting Numbers\n",
        "o Print numbers from 1 to 10 on a single ine.\n",
        "\n",
        "Pattern 2: Multiplication Table\n",
        "• Create a multiplication table for the number 5 (from 1 to 10)."
      ],
      "metadata": {
        "id": "FAL8UTQ09fjs"
      }
    },
    {
      "cell_type": "code",
      "source": [
        "num=1\n",
        "while num <=10:\n",
        "    print (num,end=\" \")\n",
        "    num+=1\n",
        "num2=1\n",
        "print (\"\\n5 Multiple Table\")\n",
        "while True:\n",
        "    print(f\"5 x {num2} = {5 * num2}\")\n",
        "    if num2 ==10:\n",
        "        break\n",
        "    num2+=1"
      ],
      "metadata": {
        "colab": {
          "base_uri": "https://localhost:8080/"
        },
        "id": "KB_eMS61a_H8",
        "outputId": "8a08ab27-468c-47e6-d835-97ab684b57f2"
      },
      "execution_count": null,
      "outputs": [
        {
          "output_type": "stream",
          "name": "stdout",
          "text": [
            "1 2 3 4 5 6 7 8 9 10 \n",
            "5 Multiple Table\n",
            "5 x 1 = 5\n",
            "5 x 2 = 10\n",
            "5 x 3 = 15\n",
            "5 x 4 = 20\n",
            "5 x 5 = 25\n",
            "5 x 6 = 30\n",
            "5 x 7 = 35\n",
            "5 x 8 = 40\n",
            "5 x 9 = 45\n",
            "5 x 10 = 50\n"
          ]
        }
      ]
    },
    {
      "cell_type": "markdown",
      "source": [
        "#While Loop Assignment - Interactive Game\n",
        "Assignment Overview:\n",
        "Create a simple number guessing game using a while loop.\n",
        "Instructions:\n",
        "Write a Python program that:\n",
        "1. Sets a \"secret number\" (you can choose any number between 1 and 50)\n",
        "2. Asks the player to guess the number\n",
        "3. Tells the player if their guess is too high or too low\n",
        "4. Keeps asking until the player guesses correctly\n",
        "5. Keeps track of how many guesses it took"
      ],
      "metadata": {
        "id": "K9o6J9z0-EBF"
      }
    },
    {
      "cell_type": "code",
      "source": [
        "import random\n",
        "\n",
        "print(\"This is a Guess Game!\")\n",
        "\n",
        "#  Generate secret number once\n",
        "secret_number = random.randint(1, 5)\n",
        "count = 0\n",
        "\n",
        "\n",
        "while True:\n",
        "    print(\"Guess a number between 1 and 50\")\n",
        "    try:\n",
        "        input_number = int(input(\"Your Guess: \"))\n",
        "        count += 1\n",
        "\n",
        "        if input_number < secret_number:\n",
        "            print(\"Too low! Try again.\")\n",
        "        elif input_number > secret_number:\n",
        "            print(\"Too high! Try again.\")\n",
        "        else:\n",
        "            print(\"Well Done! You guessed it correctly!\")\n",
        "            break\n",
        "    except ValueError:\n",
        "        print(\"Please enter a valid number.\")\n",
        "\n",
        "\n",
        "print(f\"You guessed the number in {count} tries!\")"
      ],
      "metadata": {
        "colab": {
          "base_uri": "https://localhost:8080/"
        },
        "id": "5bUQOJrDV5lb",
        "outputId": "6dba9758-7bb3-416e-ee0b-06443bc67177"
      },
      "execution_count": 6,
      "outputs": [
        {
          "output_type": "stream",
          "name": "stdout",
          "text": [
            "This is a Guess Game!\n",
            "Guess a number between 1 and 50\n",
            "Your Guess: 3\n",
            "Too low! Try again.\n",
            "Guess a number between 1 and 50\n",
            "Your Guess: 3\n",
            "Too low! Try again.\n",
            "Guess a number between 1 and 50\n",
            "Your Guess: 3\n",
            "Too low! Try again.\n",
            "Guess a number between 1 and 50\n",
            "Your Guess: 4\n",
            "Well Done! You guessed it correctly!\n",
            "You guessed the number in 4 tries!\n"
          ]
        }
      ]
    },
    {
      "cell_type": "markdown",
      "source": [
        "#Student Grade Management System\n",
        "#Assignment Overview:\n",
        "In this assignment, you will create a simple student grade management system using\n",
        "Python lists and dictionaries. This will help you understand how these data structures\n",
        "work together to organize and manage information.\n",
        "Requirements:\n",
        "Create a Python program that does the following:\n",
        "1. Create a list to store information about students\n",
        "2. Each student should be represented as a dictionary with the following keys:\n",
        "o name: The student's full name\n",
        "o\n",
        "id: A unique student ID number\n",
        "grades: Another dictionary containing course names as keys and grades as\n",
        "values\n",
        "3. Your program should:\n",
        "Add at least 3 students to the list\n",
        "o Add grades for least 3 courses for each student\n",
        "o\n",
        "Display all students with their grades\n",
        "o Calculate and display the average grade for each student\n",
        "o Find and display the student with the highest average grade\n",
        "List all students with an average grade above 80\n",
        "o Calculate and display the average grade for a specific course\n",
        "o Adda new student to the system"
      ],
      "metadata": {
        "id": "-FBWW1BJWyxi"
      }
    },
    {
      "cell_type": "code",
      "source": [
        "# Student Grade Management System\n",
        "\n",
        "# Step 1: Initialize the student list\n",
        "students = [\n",
        "    {\n",
        "        \"name\": \"Alice Johnson\",\n",
        "        \"id\": 101,\n",
        "        \"grades\": {\n",
        "            \"Math\": 85,\n",
        "            \"Science\": 90,\n",
        "            \"History\": 78\n",
        "        }\n",
        "    },\n",
        "    {\n",
        "        \"name\": \"Bob Smith\",\n",
        "        \"id\": 102,\n",
        "        \"grades\": {\n",
        "            \"Math\": 75,\n",
        "            \"Science\": 80,\n",
        "            \"History\": 82\n",
        "        }\n",
        "    },\n",
        "    {\n",
        "        \"name\": \"Carol Lee\",\n",
        "        \"id\": 103,\n",
        "        \"grades\": {\n",
        "            \"Math\": 92,\n",
        "            \"Science\": 88,\n",
        "            \"History\": 95\n",
        "        }\n",
        "    }\n",
        "]\n",
        "\n",
        "# Step 2: Display all students with their grades\n",
        "print(\"\\nAll Students and Their Grades:\")\n",
        "for student in students:\n",
        "    print(f\"\\nName: {student['name']}, ID: {student['id']}\")\n",
        "    for course, grade in student['grades'].items():\n",
        "        print(f\"  {course}: {grade}\")\n",
        "\n",
        "# Step 3: Calculate and display average grade for each student\n",
        "print(\"\\nAverage Grade per Student:\")\n",
        "averages = []\n",
        "for student in students:\n",
        "    grades = list(student['grades'].values())\n",
        "    avg = sum(grades) / len(grades)\n",
        "    averages.append((student[\"name\"], avg))\n",
        "    print(f\"{student['name']} - Average: {avg:.2f}\")\n",
        "\n",
        "# Step 4: Find and display student with highest average grade\n",
        "top_student = max(averages, key=lambda x: x[1])\n",
        "print(f\"\\n🏆 Top Student: {top_student[0]} with Average Grade: {top_student[1]:.2f}\")\n",
        "\n",
        "# Step 5: List students with average grade above 80\n",
        "print(\"\\nStudents with Average Grade Above 80:\")\n",
        "for name, avg in averages:\n",
        "    if avg > 80:\n",
        "        print(f\"{name} - {avg:.2f}\")\n",
        "\n",
        "# Step 6: Calculate and display average grade for a specific course\n",
        "course_name = \"Math\"\n",
        "course_total = 0\n",
        "course_count = 0\n",
        "for student in students:\n",
        "    if course_name in student[\"grades\"]:\n",
        "        course_total += student[\"grades\"][course_name]\n",
        "        course_count += 1\n",
        "\n",
        "if course_count > 0:\n",
        "    course_avg = course_total / course_count\n",
        "    print(f\"\\n📘 Average Grade for {course_name}: {course_avg:.2f}\")\n",
        "else:\n",
        "    print(f\"\\nNo grades found for course {course_name}\")\n",
        "\n",
        "# Step 7: Add a new student\n",
        "new_student = {\n",
        "    \"name\": \"David Kim\",\n",
        "    \"id\": 104,\n",
        "    \"grades\": {\n",
        "        \"Math\": 88,\n",
        "        \"Science\": 76,\n",
        "        \"History\": 89\n",
        "    }\n",
        "}\n",
        "students.append(new_student)\n",
        "print(f\"\\n✅ New student added: {new_student['name']} (ID: {new_student['id']})\")\n",
        "\n",
        "# Optional: Display all students again after adding the new one\n",
        "print(\"\\nUpdated Student List:\")\n",
        "for student in students:\n",
        "    print(f\"{student['name']} (ID: {student['id']}) - Grades: {student['grades']}\")"
      ],
      "metadata": {
        "colab": {
          "base_uri": "https://localhost:8080/"
        },
        "id": "TtiF-PfiWyPG",
        "outputId": "eb6e977d-b5cb-428f-b2f4-e9b9c344e962"
      },
      "execution_count": 8,
      "outputs": [
        {
          "output_type": "stream",
          "name": "stdout",
          "text": [
            "\n",
            "All Students and Their Grades:\n",
            "\n",
            "Name: Alice Johnson, ID: 101\n",
            "  Math: 85\n",
            "  Science: 90\n",
            "  History: 78\n",
            "\n",
            "Name: Bob Smith, ID: 102\n",
            "  Math: 75\n",
            "  Science: 80\n",
            "  History: 82\n",
            "\n",
            "Name: Carol Lee, ID: 103\n",
            "  Math: 92\n",
            "  Science: 88\n",
            "  History: 95\n",
            "\n",
            "Average Grade per Student:\n",
            "Alice Johnson - Average: 84.33\n",
            "Bob Smith - Average: 79.00\n",
            "Carol Lee - Average: 91.67\n",
            "\n",
            "🏆 Top Student: Carol Lee with Average Grade: 91.67\n",
            "\n",
            "Students with Average Grade Above 80:\n",
            "Alice Johnson - 84.33\n",
            "Carol Lee - 91.67\n",
            "\n",
            "📘 Average Grade for Math: 84.00\n",
            "\n",
            "✅ New student added: David Kim (ID: 104)\n",
            "\n",
            "Updated Student List:\n",
            "Alice Johnson (ID: 101) - Grades: {'Math': 85, 'Science': 90, 'History': 78}\n",
            "Bob Smith (ID: 102) - Grades: {'Math': 75, 'Science': 80, 'History': 82}\n",
            "Carol Lee (ID: 103) - Grades: {'Math': 92, 'Science': 88, 'History': 95}\n",
            "David Kim (ID: 104) - Grades: {'Math': 88, 'Science': 76, 'History': 89}\n"
          ]
        }
      ]
    }
  ],
  "metadata": {
    "colab": {
      "provenance": [],
      "authorship_tag": "ABX9TyPlGDBRCTWC0xyN8farUEBt",
      "include_colab_link": true
    },
    "kernelspec": {
      "display_name": "Python 3",
      "name": "python3"
    },
    "language_info": {
      "name": "python"
    }
  },
  "nbformat": 4,
  "nbformat_minor": 0
}